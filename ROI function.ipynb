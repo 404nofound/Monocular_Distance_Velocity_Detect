{
 "cells": [
  {
   "cell_type": "code",
   "execution_count": null,
   "id": "03bcd386-fc90-4b8b-89ce-8d3b6d7a3d3c",
   "metadata": {},
   "outputs": [
    {
     "name": "stdout",
     "output_type": "stream",
     "text": [
      "img_org.size: (1440, 2560, 3)\n",
      "[INFO] 单击左键：选择点，单击右键：删除上一次选择的点，单击中键：确定ROI区域\n",
      "[INFO] 按‘S’确定选择区域并保存\n",
      "[INFO] 按 ESC 退出\n"
     ]
    }
   ],
   "source": [
    "# %load roi.py\n",
    "import cv2\n",
    "import numpy as np\n",
    "import joblib\n",
    "\n",
    "pts = []  # 建立空的列表，用于存放点坐标\n",
    "\n",
    "def draw_roi(event,x, y, flags, param):\n",
    "    img2 = img.copy()\n",
    "\n",
    "    if event == cv2.EVENT_LBUTTONDOWN:  # 左键点击，选择点\n",
    "        pts.append((x, y))\n",
    "    if event == cv2.EVENT_RBUTTONDOWN:  # 右键点击，取消最近一次选择的点\n",
    "        pts.pop()\n",
    "    if event == cv2.EVENT_MBUTTONDOWN:  # 中键绘制轮廓\n",
    "        mask = np.zeros(img.shape, np.uint8)\n",
    "        points = np.array(pts, np.int32)\n",
    "        points = points.reshape((-1, 1, 2))\n",
    "\n",
    "        # 画多边形\n",
    "        mask = cv2.polylines(mask, [points], True, (255, 255, 255), 2)\n",
    "        mask2 = cv2.fillPoly(mask.copy(), [points], (255, 255, 255))  # 用于求 ROI\n",
    "        mask3 = cv2.fillPoly(mask.copy(), [points], (0, 255, 0))      # 用于 显示在桌面的图像\n",
    "        show_image = cv2.addWeighted(src1=img, alpha=0.8, src2=mask3, beta=0.2, gamma=0)\n",
    "        cv2.imshow(\"mask\", mask2)\n",
    "        cv2.imshow(\"show_img\", show_image)\n",
    "        ROI = cv2.bitwise_and(mask2, img)\n",
    "        cv2.imshow(\"ROI\", ROI)\n",
    "        cv2.waitKey(0)\n",
    "\n",
    "    if len(pts) > 0:\n",
    "        # 将pts中的最后一点画出来\n",
    "        cv2.circle(img2, pts[-1], 3, (0, 0, 255), -1)\n",
    "        text='['+str(pts[-1][0])+','+str(pts[-1][1])+']'\n",
    "        cv2.putText(img2, text, (pts[-1][0],pts[-1][1]-10),cv2.FONT_HERSHEY_SIMPLEX, 0.5, (255, 0, 0), 1)\n",
    "    if len(pts) > 1:\n",
    "        # 画线\n",
    "        for i in range(len(pts) - 1):\n",
    "            cv2.circle(img2, pts[i], 5, (0, 0, 255), -1)  # x ,y 为鼠标点击地方的坐标\n",
    "            cv2.line(img=img2, pt1=pts[i], pt2=pts[i + 1], color=(255, 0, 0), thickness=2)\n",
    "            text='['+str(pts[i][0])+','+str(pts[i][1])+']'\n",
    "            cv2.putText(img2, text, (pts[i][0],pts[i][1]-10),cv2.FONT_HERSHEY_SIMPLEX, 0.5, (255, 0, 0), 1)\n",
    "    cv2.imshow('image', img2)\n",
    "\n",
    "# 创建图像与窗口并将窗口与回调函数绑定\n",
    "#path='C:\\\\Users\\\\Eddy\\\\Desktop\\\\video\\\\9.mp4'\n",
    "path='C:\\\\Users\\\\Eddy\\\\Desktop\\\\out.mp4'\n",
    "#为了使ROI与实际的点的坐标一致，需要将图片resize成目标大小，这里我是在视频中画ROI，所以为了匹配大小重新改了图片大小\n",
    "#img_org = cv2.imread(path)\n",
    "#img_org = cv2.imdecode(np.fromfile(path, dtype=np.uint8), -1)\n",
    "\n",
    "#first_frame_loc='./first_frame.jpg'\n",
    "videoCapture = cv2.VideoCapture(path)\n",
    "success, frame = videoCapture.read()\n",
    "img_org=frame\n",
    "#cv2.imshow('image', img_org)\n",
    "print('img_org.size:',img_org.shape)\n",
    "img=img_org\n",
    "#img=cv2.resize(img_org,(1920,1080))\n",
    "#print('img.size:',img.shape)\n",
    "\n",
    "cv2.namedWindow('image')\n",
    "cv2.setMouseCallback('image', draw_roi)\n",
    "print(\"[INFO] 单击左键：选择点，单击右键：删除上一次选择的点，单击中键：确定ROI区域\")\n",
    "print(\"[INFO] 按‘S’确定选择区域并保存\")\n",
    "print(\"[INFO] 按 ESC 退出\")\n",
    "\n",
    "#退出与保存\n",
    "while True:\n",
    "    key = cv2.waitKey(1) & 0xFF\n",
    "    if key == 27:\n",
    "        break\n",
    "    if key == ord(\"s\"):\n",
    "        saved_data = {\"ROI\": pts}\n",
    "        joblib.dump(value=saved_data, filename=\"config.pkl\")\n",
    "        print(\"[INFO] ROI坐标已保存到本地.\")\n",
    "        break\n",
    "cv2.destroyAllWindows()"
   ]
  },
  {
   "cell_type": "code",
   "execution_count": 5,
   "id": "c78a499b-ff5e-48a8-957d-8a1e9c7aac66",
   "metadata": {},
   "outputs": [
    {
     "name": "stdout",
     "output_type": "stream",
     "text": [
      "<class 'dict'>\n",
      "{'ROI': [(237, 291), (513, 297), (495, 561), (85, 631)]}\n"
     ]
    }
   ],
   "source": [
    "#加载保存好的坐标\n",
    "def Load_Model(filepath):\n",
    "    img = cv2.imread(path)\n",
    "    model = joblib.load(filepath)\n",
    "    print(type(model))\n",
    "    print(model)\n",
    "    #return model\n",
    "Load_Model('config.pkl')"
   ]
  },
  {
   "cell_type": "code",
   "execution_count": null,
   "id": "a9699206-2461-4c01-98ad-25729f8fe2b9",
   "metadata": {},
   "outputs": [],
   "source": [
    "def line(name,x1,y1,x2,y2):\n",
    "    k=(y1-y2)/(x1-x2)\n",
    "    b=y1-((y1-y2)/(x1-x2))*x1\n",
    "    print('L%s:y=%.2f*x+%.2f'%(name,k,b))\n",
    "\n",
    "#下面将上述提取出的坐标进行拟合，  \n",
    "line('ab',0, 280,461, 180)\n",
    "line('bc',0, 493,947, 315)\n",
    "line('cd',947,315,1769, 399)\n",
    "line('da2',1769, 399,0,1078)\n",
    "line('停止线',1301,314,1505,333)\n",
    "line('停止线2',1505,333,1913,270)"
   ]
  }
 ],
 "metadata": {
  "kernelspec": {
   "display_name": "Python 3 (ipykernel)",
   "language": "python",
   "name": "python3"
  },
  "language_info": {
   "codemirror_mode": {
    "name": "ipython",
    "version": 3
   },
   "file_extension": ".py",
   "mimetype": "text/x-python",
   "name": "python",
   "nbconvert_exporter": "python",
   "pygments_lexer": "ipython3",
   "version": "3.9.7"
  }
 },
 "nbformat": 4,
 "nbformat_minor": 5
}
